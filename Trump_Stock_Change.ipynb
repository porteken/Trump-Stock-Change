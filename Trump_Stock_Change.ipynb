{
  "nbformat": 4,
  "nbformat_minor": 0,
  "metadata": {
    "colab": {
      "name": "Trump-Stock-Change.ipynb",
      "provenance": []
    },
    "kernelspec": {
      "name": "python3",
      "display_name": "Python 3"
    },
    "accelerator": "GPU"
  },
  "cells": [
    {
      "cell_type": "code",
      "metadata": {
        "id": "XMrdPKO1sGwk"
      },
      "source": [
        "import pandas as pd\n",
        "import spacy\n",
        "import numpy as np\n",
        "from thinc.api import set_gpu_allocator, require_gpu\n",
        "\n",
        "# Use the GPU, with memory allocations directed via PyTorch.\n",
        "# This prevents out-of-memory errors that would otherwise occur from competing\n",
        "# memory pools.\n",
        "set_gpu_allocator(\"pytorch\")\n",
        "require_gpu(0)\n",
        "\n",
        "nlp = spacy.load(\"en_core_web_trf\")"
      ],
      "execution_count": null,
      "outputs": []
    },
    {
      "cell_type": "code",
      "metadata": {
        "id": "AfdzoAUxqy5h",
        "outputId": "2f237afc-b1fc-4e70-c128-676fcd1eeed1",
        "colab": {
          "base_uri": "https://localhost:8080/",
          "height": 206
        }
      },
      "source": [
        "data=pd.read_csv('data.csv')\n",
        "import en_trf_bertbaseuncased_lg\n",
        "nlp = spacy.load(\"en_core_web_trf\")\n",
        "cleaning= list(nlp.pipe(data['text']))\n",
        "data['score']=pd.Series([np.linalg.norm(doc._.trf_data.tensors[-1]) for doc in cleaning])\n",
        "cleaning=[doc.text for doc in cleaning]\n",
        "data['text']=pd.Series(cleaning)\n",
        "data.head()"
      ],
      "execution_count": null,
      "outputs": [
        {
          "output_type": "execute_result",
          "data": {
            "text/html": [
              "<div>\n",
              "<style scoped>\n",
              "    .dataframe tbody tr th:only-of-type {\n",
              "        vertical-align: middle;\n",
              "    }\n",
              "\n",
              "    .dataframe tbody tr th {\n",
              "        vertical-align: top;\n",
              "    }\n",
              "\n",
              "    .dataframe thead th {\n",
              "        text-align: right;\n",
              "    }\n",
              "</style>\n",
              "<table border=\"1\" class=\"dataframe\">\n",
              "  <thead>\n",
              "    <tr style=\"text-align: right;\">\n",
              "      <th></th>\n",
              "      <th>text</th>\n",
              "      <th>retweet_count</th>\n",
              "      <th>favorite_count</th>\n",
              "      <th>is_retweet</th>\n",
              "      <th>date</th>\n",
              "      <th>score</th>\n",
              "    </tr>\n",
              "  </thead>\n",
              "  <tbody>\n",
              "    <tr>\n",
              "      <th>0</th>\n",
              "      <td>RT SaraCarterDC BOMBSHELL INTERVIEWYuriy Lutse...</td>\n",
              "      <td>20370</td>\n",
              "      <td>0</td>\n",
              "      <td>1</td>\n",
              "      <td>2019-12-12</td>\n",
              "      <td>10.4551935</td>\n",
              "    </tr>\n",
              "    <tr>\n",
              "      <th>1</th>\n",
              "      <td>Representative John Carter JudgeJohnCarter fro...</td>\n",
              "      <td>11165</td>\n",
              "      <td>44766</td>\n",
              "      <td>0</td>\n",
              "      <td>2020-01-21</td>\n",
              "      <td>9.839508</td>\n",
              "    </tr>\n",
              "    <tr>\n",
              "      <th>2</th>\n",
              "      <td>Theres not one shred of evidence that this pre...</td>\n",
              "      <td>27307</td>\n",
              "      <td>132657</td>\n",
              "      <td>0</td>\n",
              "      <td>2019-02-23</td>\n",
              "      <td>9.635421</td>\n",
              "    </tr>\n",
              "    <tr>\n",
              "      <th>3</th>\n",
              "      <td>Consumer Confidence number very good Housing s...</td>\n",
              "      <td>14244</td>\n",
              "      <td>64181</td>\n",
              "      <td>0</td>\n",
              "      <td>2019-10-29</td>\n",
              "      <td>9.621683</td>\n",
              "    </tr>\n",
              "    <tr>\n",
              "      <th>4</th>\n",
              "      <td>Why are the Democrats not looking into all of ...</td>\n",
              "      <td>19822</td>\n",
              "      <td>80370</td>\n",
              "      <td>0</td>\n",
              "      <td>2019-05-20</td>\n",
              "      <td>10.310721</td>\n",
              "    </tr>\n",
              "  </tbody>\n",
              "</table>\n",
              "</div>"
            ],
            "text/plain": [
              "                                                text  ...       score\n",
              "0  RT SaraCarterDC BOMBSHELL INTERVIEWYuriy Lutse...  ...  10.4551935\n",
              "1  Representative John Carter JudgeJohnCarter fro...  ...    9.839508\n",
              "2  Theres not one shred of evidence that this pre...  ...    9.635421\n",
              "3  Consumer Confidence number very good Housing s...  ...    9.621683\n",
              "4  Why are the Democrats not looking into all of ...  ...   10.310721\n",
              "\n",
              "[5 rows x 6 columns]"
            ]
          },
          "metadata": {
            "tags": []
          },
          "execution_count": 33
        }
      ]
    },
    {
      "cell_type": "code",
      "metadata": {
        "id": "0YabngGSs9ik"
      },
      "source": [
        "data.to_csv('output.csv',index=False)"
      ],
      "execution_count": null,
      "outputs": []
    },
    {
      "cell_type": "code",
      "metadata": {
        "id": "rKAhh63q4L_O",
        "outputId": "89bbd16c-f331-4476-ca53-261cb2301959",
        "colab": {
          "base_uri": "https://localhost:8080/"
        }
      },
      "source": [
        ""
      ],
      "execution_count": null,
      "outputs": [
        {
          "output_type": "stream",
          "text": [
            "\u001b[38;5;3m⚠ Skipping pipeline package dependencies and setting `--no-deps`. You\n",
            "don't seem to have the spaCy package itself installed (maybe because you've\n",
            "built from source?), so installing the package dependencies would cause spaCy to\n",
            "be downloaded, which probably isn't what you want. If the pipeline package has\n",
            "other dependencies, you'll have to install them manually.\u001b[0m\n",
            "Collecting en_core_web_trf==3.0.0a0\n",
            "\u001b[?25l  Downloading https://github.com/explosion/spacy-models/releases/download/en_core_web_trf-3.0.0a0/en_core_web_trf-3.0.0a0.tar.gz (459.7MB)\n",
            "\u001b[K     |████████████████████████████████| 459.7MB 57.6MB/s \n",
            "\u001b[?25hBuilding wheels for collected packages: en-core-web-trf\n",
            "  Building wheel for en-core-web-trf (setup.py) ... \u001b[?25l\u001b[?25hdone\n",
            "  Created wheel for en-core-web-trf: filename=en_core_web_trf-3.0.0a0-cp36-none-any.whl size=459703091 sha256=2f8d206137f2e382527bc75dec73e81ad50de4ed3ae3d47fd26589679080baa9\n",
            "  Stored in directory: /tmp/pip-ephem-wheel-cache-tcrtpwuy/wheels/fb/c1/17/b15783044943a576bc27b2f699a1f1f8886550f121e398b2f3\n",
            "Successfully built en-core-web-trf\n",
            "Installing collected packages: en-core-web-trf\n",
            "Successfully installed en-core-web-trf-3.0.0a0\n",
            "\u001b[38;5;2m✔ Download and installation successful\u001b[0m\n",
            "You can now load the package via spacy.load('en_core_web_trf')\n"
          ],
          "name": "stdout"
        }
      ]
    }
  ]
}